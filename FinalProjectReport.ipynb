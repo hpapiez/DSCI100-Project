{
 "cells": [
  {
   "cell_type": "markdown",
   "id": "908b5e2b-58d9-4333-b5de-e8d6d5f6c476",
   "metadata": {},
   "source": [
    "## Correlations between Age and Played Hours in Minecraft"
   ]
  },
  {
   "cell_type": "markdown",
   "id": "570b41c2-fd54-480d-a012-fc4d022281a0",
   "metadata": {},
   "source": [
    "#### Introduction: "
   ]
  },
  {
   "cell_type": "markdown",
   "id": "eeab3a80-915b-4e8c-8a49-6b81f76ed101",
   "metadata": {},
   "source": [
    "#### Methods and Results:\n",
    "The methodology of the code is as follows:\n"
   ]
  },
  {
   "cell_type": "markdown",
   "id": "353330ff-c96e-4764-9123-a06e0f764c41",
   "metadata": {},
   "source": [
    "#### Discussion:"
   ]
  },
  {
   "cell_type": "markdown",
   "id": "b2962bfb-f08d-4346-b88c-1d16db28fdbc",
   "metadata": {},
   "source": [
    "#### References: "
   ]
  },
  {
   "cell_type": "code",
   "execution_count": null,
   "id": "9590cbb1-6f5c-44f5-9846-2cc47d4e82ac",
   "metadata": {},
   "outputs": [],
   "source": []
  }
 ],
 "metadata": {
  "kernelspec": {
   "display_name": "R",
   "language": "R",
   "name": "ir"
  },
  "language_info": {
   "codemirror_mode": "r",
   "file_extension": ".r",
   "mimetype": "text/x-r-source",
   "name": "R",
   "pygments_lexer": "r",
   "version": "4.3.3"
  }
 },
 "nbformat": 4,
 "nbformat_minor": 5
}
